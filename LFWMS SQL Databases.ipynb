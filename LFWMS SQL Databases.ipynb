{
 "cells": [
  {
   "cell_type": "code",
   "execution_count": 12,
   "id": "ff210273-682a-4181-911b-bf20140e3aa4",
   "metadata": {},
   "outputs": [],
   "source": [
    "import sqlite3\n",
    "import pandas as pd"
   ]
  },
  {
   "cell_type": "code",
   "execution_count": 13,
   "id": "03053259-87b1-4ef2-b90f-d3beb4cf0033",
   "metadata": {},
   "outputs": [],
   "source": [
    "# Connect to SQLite database (creates file if not exists)\n",
    "conn = sqlite3.connect(\"food_wastage_management.db\")"
   ]
  },
  {
   "cell_type": "code",
   "execution_count": 14,
   "id": "3852c403-3bd8-4b89-8726-2b327996d7dd",
   "metadata": {},
   "outputs": [],
   "source": [
    "# Load cleaned CSVs\n",
    "providers = pd.read_csv(\"providers_clean.csv\")\n",
    "receivers = pd.read_csv(\"receivers_clean.csv\")\n",
    "food_listings = pd.read_csv(\"food_listings_clean.csv\")\n",
    "claims = pd.read_csv(\"claims_clean.csv\")"
   ]
  },
  {
   "cell_type": "code",
   "execution_count": 15,
   "id": "6de335c4-8ec2-43d8-bc6e-5453a8485c72",
   "metadata": {},
   "outputs": [
    {
     "name": "stdout",
     "output_type": "stream",
     "text": [
      "✅ Database created and tables loaded successfully.\n"
     ]
    }
   ],
   "source": [
    "# Save DataFrames to SQL tables\n",
    "providers.to_sql(\"providers\", conn, if_exists=\"replace\", index=False)\n",
    "receivers.to_sql(\"receivers\", conn, if_exists=\"replace\", index=False)\n",
    "food_listings.to_sql(\"food_listings\", conn, if_exists=\"replace\", index=False)\n",
    "claims.to_sql(\"claims\", conn, if_exists=\"replace\", index=False)\n",
    "\n",
    "print(\"✅ Database created and tables loaded successfully.\")"
   ]
  },
  {
   "cell_type": "code",
   "execution_count": 16,
   "id": "cb503fad-3e66-47d5-bde8-777584c32618",
   "metadata": {},
   "outputs": [
    {
     "name": "stdout",
     "output_type": "stream",
     "text": [
      "providers: 1000 rows\n",
      "receivers: 1000 rows\n",
      "food_listings: 1000 rows\n",
      "claims: 1000 rows\n"
     ]
    }
   ],
   "source": [
    "# Verify row counts\n",
    "\n",
    "for table in [\"providers\", \"receivers\", \"food_listings\", \"claims\"]:\n",
    "    count = conn.execute(f\"SELECT COUNT(*) FROM {table}\").fetchone()[0]\n",
    "    print(f\"{table}: {count} rows\")"
   ]
  },
  {
   "cell_type": "code",
   "execution_count": 17,
   "id": "dab6160d-035f-42b8-8b5f-40388381a73f",
   "metadata": {},
   "outputs": [
    {
     "name": "stdout",
     "output_type": "stream",
     "text": [
      " ✅ Data loaded into SQL and final CSVs saved.\n"
     ]
    }
   ],
   "source": [
    "# Save final database-backed CSVs\n",
    "\n",
    "pd.read_sql_query(\"SELECT * FROM providers\", conn).to_csv(\"providers_final.csv\", index=False)\n",
    "pd.read_sql_query(\"SELECT * FROM receivers\", conn).to_csv(\"receivers_final.csv\", index=False)\n",
    "pd.read_sql_query(\"SELECT * FROM food_listings\", conn).to_csv(\"food_listings_final.csv\", index=False)\n",
    "pd.read_sql_query(\"SELECT * FROM claims\", conn).to_csv(\"claims_final.csv\", index=False)\n",
    "\n",
    "print(\" ✅ Data loaded into SQL and final CSVs saved.\")"
   ]
  },
  {
   "cell_type": "code",
   "execution_count": 18,
   "id": "1e04b50d-fa85-41ce-a659-aaa327583a73",
   "metadata": {},
   "outputs": [
    {
     "name": "stdout",
     "output_type": "stream",
     "text": [
      "💾 Final files saved in C:\\Users\\SHRUTI WALUNJ\\OneDrive\\Desktop\\Labmentix\\Project 2 - Food Waste Management\\final_data\n"
     ]
    }
   ],
   "source": [
    "# Optional: Save final files to a folder on your PC\n",
    "save_dir = r'C:\\Users\\SHRUTI WALUNJ\\OneDrive\\Desktop\\Labmentix\\Project 2 - Food Waste Management\\final_data'  # change this to your folder path\n",
    "\n",
    "# Save all files in that folder\n",
    "pd.read_sql_query(\"SELECT * FROM providers\", conn).to_csv(f\"{save_dir}/providers_final.csv\", index=False)\n",
    "pd.read_sql_query(\"SELECT * FROM receivers\", conn).to_csv(f\"{save_dir}/receivers_final.csv\", index=False)\n",
    "pd.read_sql_query(\"SELECT * FROM food_listings\", conn).to_csv(f\"{save_dir}/food_listings_final.csv\", index=False)\n",
    "pd.read_sql_query(\"SELECT * FROM claims\", conn).to_csv(f\"{save_dir}/claims_final.csv\", index=False)\n",
    "\n",
    "print(f\"💾 Final files saved in {save_dir}\")"
   ]
  },
  {
   "cell_type": "code",
   "execution_count": null,
   "id": "f960a476-dc63-444e-9735-ade1e63f2cba",
   "metadata": {},
   "outputs": [],
   "source": []
  }
 ],
 "metadata": {
  "kernelspec": {
   "display_name": "Python 3 (ipykernel)",
   "language": "python",
   "name": "python3"
  },
  "language_info": {
   "codemirror_mode": {
    "name": "ipython",
    "version": 3
   },
   "file_extension": ".py",
   "mimetype": "text/x-python",
   "name": "python",
   "nbconvert_exporter": "python",
   "pygments_lexer": "ipython3",
   "version": "3.12.7"
  }
 },
 "nbformat": 4,
 "nbformat_minor": 5
}
